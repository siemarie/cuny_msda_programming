{
 "metadata": {
  "name": "",
  "signature": "sha256:f185b12f8f0b2739ad4f1365215c69898063d47942756759f70eccc5be80d464"
 },
 "nbformat": 3,
 "nbformat_minor": 0,
 "worksheets": [
  {
   "cells": [
    {
     "cell_type": "code",
     "collapsed": false,
     "input": [
      "import re\n",
      "file = open(\"C:\\Users\\Jessie\\Documents\\GitHub\\cuny_msda_programming\\week6-data.txt\")\n",
      "data = file.readlines()"
     ],
     "language": "python",
     "metadata": {},
     "outputs": [],
     "prompt_number": 83
    },
    {
     "cell_type": "code",
     "collapsed": false,
     "input": [
      "rank = re.search('[^\\s]+', data[0])\n",
      "print \"Rank: \",rank.group(0)\n",
      "country = re.search('[^\\s]+[^\\s]', data[0])\n",
      "print \"Country: \",country.group(0)\n",
      "matches = re.split('\\s[|]\\s', data[0])\n",
      "print \"Results: \"\n",
      "i = 1\n",
      "while(i<len(matches)):\n",
      "    print \" \",matches[i]\n",
      "    i=i+1"
     ],
     "language": "python",
     "metadata": {},
     "outputs": [
      {
       "output_type": "stream",
       "stream": "stdout",
       "text": [
        "Rank:  1\n",
        "Country:  Germany\n",
        "Results: \n",
        "  W 3\n",
        "  T 4\n",
        "  W 2\n",
        "\n"
       ]
      }
     ],
     "prompt_number": 203
    },
    {
     "cell_type": "code",
     "collapsed": false,
     "input": [],
     "language": "python",
     "metadata": {},
     "outputs": []
    }
   ],
   "metadata": {}
  }
 ]
}